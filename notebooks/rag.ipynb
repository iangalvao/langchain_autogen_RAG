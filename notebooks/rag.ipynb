{
 "cells": [
  {
   "cell_type": "markdown",
   "metadata": {
    "colab_type": "text",
    "id": "view-in-github"
   },
   "source": [
    "<a href=\"https://colab.research.google.com/github/sugarforever/LangChain-Advanced/blob/main/Integrations/AutoGen/autogen_langchain_uniswap_ai_agent.ipynb\" target=\"_parent\"><img src=\"https://colab.research.google.com/assets/colab-badge.svg\" alt=\"Open In Colab\"/></a>"
   ]
  },
  {
   "cell_type": "markdown",
   "metadata": {
    "id": "39_S0tWcB-oh"
   },
   "source": [
    "# AutoGen + LangChain Use Case - Uniswap Protocol AI Agent\n",
    "\n",
    "**`AutoGen`** is a versatile framework that facilitates the creation of LLM applications by employing multiple agents capable of interacting with one another to tackle tasks. These AutoGen agents can be tailored to specific needs, engage in conversations, and seamlessly integrate human participation. They are adaptable to different operation modes that encompass the utilization of LLMs, human inputs, and various tools.\n",
    "\n",
    "**`LangChain`** is an open-source framework designed for software developers engaged in AI and ML. It enables them to seamlessly integrate LLM with external components, facilitating the creation of LLM-driven applications. The primary aim of LangChain is to establish connections between LLMs such as OpenAI's GPT-3.5 and GPT-4 and various external data sources, enabling the development and utilization of NLP applications.\n",
    "\n",
    "Both of them are playing key roles in the LLM application development.\n",
    "\n",
    "`AutoGen` doesn't support connecting to various external data sources natively. This is exactly where `LangChain` can come into play."
   ]
  },
  {
   "cell_type": "markdown",
   "metadata": {
    "id": "NtvjgnBZZjUL"
   },
   "source": [
    "## Use Case - Uniswap Protocol\n",
    "\n",
    "`Uniswap` is a decentralized exchange that allows users to trade Ethereum-based tokens.\n",
    "\n",
    "In this tutorial, I will walk you through the steps to follow to build an AI agent that can complete tasks that involve Uniswap knowledge.\n",
    "\n",
    "1. Build up a vector store with Uniswap V3 whitepaper.\n",
    "2. Set up a conversational retrieval QA chain by LangChain, based on the vector store.\n",
    "3. Define a function `answer_uniswap_question` by taking a parameter `question`, calling the QA chain to answer it.\n",
    "4. Set up AutoGen user agent and assistant agent with function calling enabled.\n",
    "\n",
    "  - In the function mapping, the function defined in step 3 is included.\n",
    "  - The assistant agent is instructed by the following message to call the function `answer_uniswap_question` to answer Uniswap related questions.\n",
    "\n",
    "    ```\n",
    "    I'm writing a blog to introduce the version 3 of Uniswap protocol. Find the answers to the 3 questions below and write an introduction based on them.\n",
    "\n",
    "    1. What is Uniswap?\n",
    "    2. What are the main changes in Uniswap version 3?\n",
    "    3. How to use Uniswap?\n",
    "\n",
    "    Start the work now.\n",
    "    ```\n",
    "\n",
    "  - The function call is done by user agent."
   ]
  },
  {
   "cell_type": "markdown",
   "metadata": {
    "id": "z73o7bmtb5LH"
   },
   "source": [
    "### Environment Preparation"
   ]
  },
  {
   "cell_type": "code",
   "execution_count": null,
   "metadata": {
    "execution": {
     "iopub.execute_input": "2023-02-13T23:40:52.317406Z",
     "iopub.status.busy": "2023-02-13T23:40:52.316561Z",
     "iopub.status.idle": "2023-02-13T23:40:52.321193Z",
     "shell.execute_reply": "2023-02-13T23:40:52.320628Z"
    },
    "id": "1VRZnGGGgkhl"
   },
   "outputs": [],
   "source": [
    "%pip install pyautogen~=0.1.0 docker langchain openai tiktoken chromadb pypdf -q -U"
   ]
  },
  {
   "cell_type": "code",
   "execution_count": 1,
   "metadata": {
    "id": "YL7GbhDnSOFE"
   },
   "outputs": [
    {
     "name": "stdout",
     "output_type": "stream",
     "text": [
      "--2023-12-10 17:03:47--  https://uniswap.org/whitepaper-v3.pdf\n",
      "Resolving uniswap.org (uniswap.org)... 104.18.23.54, 104.18.22.54, 2606:4700::6812:1636, ...\n",
      "Connecting to uniswap.org (uniswap.org)|104.18.23.54|:443... connected.\n",
      "HTTP request sent, awaiting response... 200 OK\n",
      "Length: 1500865 (1.4M) [application/pdf]\n",
      "Saving to: ‘uniswap_v3.pdf’\n",
      "\n",
      "uniswap_v3.pdf      100%[===================>]   1.43M  --.-KB/s    in 0.1s    \n",
      "\n",
      "2023-12-10 17:03:47 (11.4 MB/s) - ‘uniswap_v3.pdf’ saved [1500865/1500865]\n",
      "\n"
     ]
    }
   ],
   "source": [
    "!wget -O uniswap_v3.pdf https://uniswap.org/whitepaper-v3.pdf"
   ]
  },
  {
   "cell_type": "code",
   "execution_count": 1,
   "metadata": {
    "id": "HZ7w_A3nXU8-"
   },
   "outputs": [],
   "source": [
    "import autogen\n",
    "\n",
    "config_list = autogen.config_list_from_json(\n",
    "    \"OAI_CONFIG_LIST\",\n",
    "    filter_dict={\n",
    "        \"model\": [\"gpt-4\"],\n",
    "    },\n",
    ")\n",
    "#\n",
    "# Sample content of OAI_CONFIG_LIST file below:\n",
    "#\n",
    "# [\n",
    "#   {\n",
    "#     \"model\": \"gpt-4\",\n",
    "#     \"api_key\": \"your openai api key\"\n",
    "#   }\n",
    "# ]\n",
    "#"
   ]
  },
  {
   "cell_type": "code",
   "execution_count": 2,
   "metadata": {
    "id": "EFD1i82uXYhI"
   },
   "outputs": [],
   "source": [
    "gpt4_api_key = config_list[0][\"api_key\"]"
   ]
  },
  {
   "cell_type": "code",
   "execution_count": 3,
   "metadata": {
    "id": "ZhfDAOAeSUJg"
   },
   "outputs": [],
   "source": [
    "import os\n",
    "os.environ['OPENAI_API_KEY'] = gpt4_api_key"
   ]
  },
  {
   "cell_type": "code",
   "execution_count": 4,
   "metadata": {
    "id": "1WVvbWIDSWMR"
   },
   "outputs": [],
   "source": [
    "from langchain.vectorstores import Chroma\n",
    "from langchain.embeddings import OpenAIEmbeddings\n",
    "from langchain.text_splitter import RecursiveCharacterTextSplitter\n",
    "from langchain.document_loaders import PyPDFLoader\n",
    "from langchain.memory import ConversationBufferMemory\n",
    "from langchain.llms import OpenAI\n",
    "from langchain.chains import ConversationalRetrievalChain"
   ]
  },
  {
   "cell_type": "markdown",
   "metadata": {
    "id": "BA48TH6Hc_3c"
   },
   "source": [
    "### Steps"
   ]
  },
  {
   "cell_type": "markdown",
   "metadata": {
    "id": "rCrCnRC7cdC-"
   },
   "source": [
    "#### 1. Build up a vector store with Uniswap V3 whitepaper."
   ]
  },
  {
   "cell_type": "code",
   "execution_count": 5,
   "metadata": {
    "id": "LcC3gnqXSZHs"
   },
   "outputs": [],
   "source": [
    "loaders = [ PyPDFLoader('./uniswap_v3.pdf') ]\n",
    "docs = []\n",
    "for l in loaders:\n",
    "    docs.extend(l.load())\n",
    "text_splitter = RecursiveCharacterTextSplitter(chunk_size=1000)\n",
    "docs = text_splitter.split_documents(docs)"
   ]
  },
  {
   "cell_type": "code",
   "execution_count": 6,
   "metadata": {
    "id": "8VoyrUwTShHw"
   },
   "outputs": [
    {
     "data": {
      "text/plain": [
       "['abc68dda-9860-11ee-9a65-0242ac160002',\n",
       " 'abc693fc-9860-11ee-9a65-0242ac160002',\n",
       " 'abc6944c-9860-11ee-9a65-0242ac160002',\n",
       " 'abc69488-9860-11ee-9a65-0242ac160002',\n",
       " 'abc694c4-9860-11ee-9a65-0242ac160002',\n",
       " 'abc6950a-9860-11ee-9a65-0242ac160002',\n",
       " 'abc69550-9860-11ee-9a65-0242ac160002',\n",
       " 'abc69596-9860-11ee-9a65-0242ac160002',\n",
       " 'abc695d2-9860-11ee-9a65-0242ac160002',\n",
       " 'abc69618-9860-11ee-9a65-0242ac160002',\n",
       " 'abc69654-9860-11ee-9a65-0242ac160002',\n",
       " 'abc69690-9860-11ee-9a65-0242ac160002',\n",
       " 'abc696cc-9860-11ee-9a65-0242ac160002',\n",
       " 'abc69708-9860-11ee-9a65-0242ac160002',\n",
       " 'abc6974e-9860-11ee-9a65-0242ac160002',\n",
       " 'abc6978a-9860-11ee-9a65-0242ac160002',\n",
       " 'abc697c6-9860-11ee-9a65-0242ac160002',\n",
       " 'abc6980c-9860-11ee-9a65-0242ac160002',\n",
       " 'abc69848-9860-11ee-9a65-0242ac160002',\n",
       " 'abc69884-9860-11ee-9a65-0242ac160002',\n",
       " 'abc698ca-9860-11ee-9a65-0242ac160002',\n",
       " 'abc69906-9860-11ee-9a65-0242ac160002',\n",
       " 'abc69960-9860-11ee-9a65-0242ac160002',\n",
       " 'abc6999c-9860-11ee-9a65-0242ac160002',\n",
       " 'abc699d8-9860-11ee-9a65-0242ac160002',\n",
       " 'abc69a14-9860-11ee-9a65-0242ac160002',\n",
       " 'abc69a50-9860-11ee-9a65-0242ac160002',\n",
       " 'abc69a8c-9860-11ee-9a65-0242ac160002',\n",
       " 'abc69ac8-9860-11ee-9a65-0242ac160002',\n",
       " 'abc69b04-9860-11ee-9a65-0242ac160002',\n",
       " 'abc69b40-9860-11ee-9a65-0242ac160002',\n",
       " 'abc69b7c-9860-11ee-9a65-0242ac160002',\n",
       " 'abc69bb8-9860-11ee-9a65-0242ac160002',\n",
       " 'abc69bf4-9860-11ee-9a65-0242ac160002',\n",
       " 'abc69c3a-9860-11ee-9a65-0242ac160002',\n",
       " 'abc69c76-9860-11ee-9a65-0242ac160002',\n",
       " 'abc69cb2-9860-11ee-9a65-0242ac160002',\n",
       " 'abc69cee-9860-11ee-9a65-0242ac160002',\n",
       " 'abc69d2a-9860-11ee-9a65-0242ac160002',\n",
       " 'abc69d70-9860-11ee-9a65-0242ac160002',\n",
       " 'abc69dac-9860-11ee-9a65-0242ac160002',\n",
       " 'abc69df2-9860-11ee-9a65-0242ac160002',\n",
       " 'abc69e38-9860-11ee-9a65-0242ac160002',\n",
       " 'abc69e74-9860-11ee-9a65-0242ac160002',\n",
       " 'abc69eb0-9860-11ee-9a65-0242ac160002',\n",
       " 'abc69eec-9860-11ee-9a65-0242ac160002',\n",
       " 'abc69f28-9860-11ee-9a65-0242ac160002',\n",
       " 'abc69f64-9860-11ee-9a65-0242ac160002',\n",
       " 'abc69fa0-9860-11ee-9a65-0242ac160002',\n",
       " 'abc69fdc-9860-11ee-9a65-0242ac160002',\n",
       " 'abc6a018-9860-11ee-9a65-0242ac160002']"
      ]
     },
     "execution_count": 6,
     "metadata": {},
     "output_type": "execute_result"
    }
   ],
   "source": [
    "vectorstore = Chroma(\n",
    "    collection_name=\"full_documents\",\n",
    "    embedding_function=OpenAIEmbeddings()\n",
    ")\n",
    "vectorstore.add_documents(docs)"
   ]
  },
  {
   "cell_type": "markdown",
   "metadata": {
    "id": "PxFsXiHVciOo"
   },
   "source": [
    "#### 2. Set up a conversational retrieval QA chain by LangChain, based on the vector store."
   ]
  },
  {
   "cell_type": "code",
   "execution_count": 7,
   "metadata": {
    "id": "6eRvVjJITKfR"
   },
   "outputs": [],
   "source": [
    "qa = ConversationalRetrievalChain.from_llm(\n",
    "    OpenAI(temperature=0),\n",
    "    vectorstore.as_retriever(),\n",
    "    memory=ConversationBufferMemory(memory_key=\"chat_history\", return_messages=True)\n",
    ")"
   ]
  },
  {
   "cell_type": "code",
   "execution_count": 8,
   "metadata": {
    "id": "sXST-2kRTUOs"
   },
   "outputs": [],
   "source": [
    "result = qa(({\"question\": \"What is uniswap?\"}))"
   ]
  },
  {
   "cell_type": "code",
   "execution_count": 9,
   "metadata": {
    "colab": {
     "base_uri": "https://localhost:8080/",
     "height": 54
    },
    "id": "WVi6rT78Tsu_",
    "outputId": "d1808979-3d18-4847-c45a-0f3864bc8819"
   },
   "outputs": [
    {
     "data": {
      "text/plain": [
       "' Uniswap is a noncustodial automated market maker implemented for the Ethereum Virtual Machine.'"
      ]
     },
     "execution_count": 9,
     "metadata": {},
     "output_type": "execute_result"
    }
   ],
   "source": [
    "result['answer']"
   ]
  },
  {
   "cell_type": "markdown",
   "metadata": {
    "id": "O7VPXVI_coX4"
   },
   "source": [
    "#### 3. Define a function `answer_uniswap_question`\n",
    "\n",
    "It takes a parameter `question`, calls the QA chain, and answer it by returning the answer from the chain response."
   ]
  },
  {
   "cell_type": "code",
   "execution_count": 10,
   "metadata": {
    "id": "yPThjcdFT1Lw"
   },
   "outputs": [],
   "source": [
    "def answer_uniswap_question(question):\n",
    "  response = qa({\"question\": question})\n",
    "  return response[\"answer\"]"
   ]
  },
  {
   "cell_type": "markdown",
   "metadata": {
    "id": "Wu7gjAv-c4uP"
   },
   "source": [
    "#### 4. Set up AutoGen user agent and assistant agent with function calling enabled."
   ]
  },
  {
   "cell_type": "code",
   "execution_count": 14,
   "metadata": {
    "id": "ZsXuHf1fgkhl"
   },
   "outputs": [],
   "source": [
    "llm_config={\n",
    "\n",
    "    \"seed\": 42,\n",
    "    \"config_list\": config_list,\n",
    "    \"temperature\": 0,\n",
    "    \"functions\": [\n",
    "        {\n",
    "            \"name\": \"answer_uniswap_question\",\n",
    "            \"description\": \"Answer any Uniswap related questions\",\n",
    "            \"parameters\": {\n",
    "                \"type\": \"object\",\n",
    "                \"properties\": {\n",
    "                    \"question\": {\n",
    "                        \"type\": \"string\",\n",
    "                        \"description\": \"The question to ask in relation to Uniswap protocol\",\n",
    "                    }\n",
    "                },\n",
    "                \"required\": [\"question\"],\n",
    "            },\n",
    "        }\n",
    "    ],\n",
    "}"
   ]
  },
  {
   "cell_type": "code",
   "execution_count": 15,
   "metadata": {
    "id": "eg9g65hOgkhm"
   },
   "outputs": [],
   "source": [
    "# create an AssistantAgent instance named \"assistant\"\n",
    "assistant = autogen.AssistantAgent(\n",
    "    name=\"assistant\",\n",
    "    llm_config=llm_config,\n",
    ")\n",
    "# create a UserProxyAgent instance named \"user_proxy\"\n",
    "user_proxy = autogen.UserProxyAgent(\n",
    "    name=\"user_proxy\",\n",
    "    human_input_mode=\"NEVER\",\n",
    "    max_consecutive_auto_reply=10,\n",
    "    code_execution_config={\"work_dir\": \".\"},\n",
    "    llm_config=llm_config,\n",
    "    system_message=\"\"\"Reply TERMINATE if the task has been solved at full satisfaction.\n",
    "Otherwise, reply CONTINUE, or the reason why the task is not solved yet.\"\"\",\n",
    "    function_map={\"answer_uniswap_question\": answer_uniswap_question}\n",
    ")"
   ]
  },
  {
   "cell_type": "markdown",
   "metadata": {
    "id": "37cRtpqLdLSZ"
   },
   "source": [
    "### It's time to start a task for the agents.\n",
    "\n",
    "Now, let's user the user agent to ask the agents to write an introduction blog for `Uniswap` protocol v3."
   ]
  },
  {
   "cell_type": "code",
   "execution_count": 16,
   "metadata": {
    "colab": {
     "base_uri": "https://localhost:8080/"
    },
    "id": "aCdAqig3gkhn",
    "outputId": "0deb286b-a1e4-4b56-e8c4-4ab7ea33173f"
   },
   "outputs": [
    {
     "name": "stdout",
     "output_type": "stream",
     "text": [
      "\u001b[33muser_proxy\u001b[0m (to assistant):\n",
      "\n",
      "\n",
      "I'm writing a blog to introduce the version 3 of Uniswap protocol. Find the answers to the 3 questions below and write an introduction based on them.\n",
      "\n",
      "1. What is Uniswap?\n",
      "2. What are the main changes in Uniswap version 3?\n",
      "3. How to use Uniswap?\n",
      "\n",
      "Start the work now.\n",
      "\n",
      "\n",
      "--------------------------------------------------------------------------------\n",
      "\u001b[33massistant\u001b[0m (to user_proxy):\n",
      "\n",
      "\u001b[32m***** Suggested function Call: answer_uniswap_question *****\u001b[0m\n",
      "Arguments: \n",
      "\n",
      "{\n",
      "  \"question\": \"What is Uniswap?\"\n",
      "}\n",
      "\u001b[32m************************************************************\u001b[0m\n",
      "\n",
      "--------------------------------------------------------------------------------\n",
      "\u001b[35m\n",
      ">>>>>>>> EXECUTING FUNCTION answer_uniswap_question...\u001b[0m\n",
      "\u001b[33muser_proxy\u001b[0m (to assistant):\n",
      "\n",
      "\u001b[32m***** Response from calling function \"answer_uniswap_question\" *****\u001b[0m\n",
      " An automated market maker (AMM) is a type of algorithm that pools liquidity and makes it available to traders according to a predetermined set of rules. Uniswap v3 is an example of an AMM implemented for the Ethereum Virtual Machine.\n",
      "\u001b[32m********************************************************************\u001b[0m\n",
      "\n",
      "--------------------------------------------------------------------------------\n",
      "\u001b[33massistant\u001b[0m (to user_proxy):\n",
      "\n",
      "\u001b[32m***** Suggested function Call: answer_uniswap_question *****\u001b[0m\n",
      "Arguments: \n",
      "\n",
      "{\n",
      "  \"question\": \"What are the main changes in Uniswap version 3?\"\n",
      "}\n",
      "\u001b[32m************************************************************\u001b[0m\n",
      "\n",
      "--------------------------------------------------------------------------------\n",
      "\u001b[35m\n",
      ">>>>>>>> EXECUTING FUNCTION answer_uniswap_question...\u001b[0m\n",
      "\u001b[33muser_proxy\u001b[0m (to assistant):\n",
      "\n",
      "\u001b[32m***** Response from calling function \"answer_uniswap_question\" *****\u001b[0m\n",
      " Uniswap v3 introduces multiple pools for each pair of tokens, each with a different swap fee. It also introduces non-fungible liquidity, non-compounding fees, and flexible fees. It also has a liquidity oracle and is implemented as an entirely new set of contracts.\n",
      "\u001b[32m********************************************************************\u001b[0m\n",
      "\n",
      "--------------------------------------------------------------------------------\n",
      "\u001b[33massistant\u001b[0m (to user_proxy):\n",
      "\n",
      "\u001b[32m***** Suggested function Call: answer_uniswap_question *****\u001b[0m\n",
      "Arguments: \n",
      "\n",
      "{\n",
      "  \"question\": \"How to use Uniswap?\"\n",
      "}\n",
      "\u001b[32m************************************************************\u001b[0m\n",
      "\n",
      "--------------------------------------------------------------------------------\n",
      "\u001b[35m\n",
      ">>>>>>>> EXECUTING FUNCTION answer_uniswap_question...\u001b[0m\n",
      "\u001b[33muser_proxy\u001b[0m (to assistant):\n",
      "\n",
      "\u001b[32m***** Response from calling function \"answer_uniswap_question\" *****\u001b[0m\n",
      " Uniswap is a noncustodial automated market maker implemented for the Ethereum Virtual Machine. To use Uniswap, you need to provide liquidity to the pool and set the fee tier for each pool. You can then use the oracle to query recent price accumulator values. For more information, please refer to the Uniswap v3 Core paper.\n",
      "\u001b[32m********************************************************************\u001b[0m\n",
      "\n",
      "--------------------------------------------------------------------------------\n",
      "\u001b[33massistant\u001b[0m (to user_proxy):\n",
      "\n",
      "Based on the answers to your questions, here is a draft introduction for your blog:\n",
      "\n",
      "Uniswap is an automated market maker (AMM) implemented for the Ethereum Virtual Machine. It's a type of algorithm that pools liquidity and makes it available to traders according to a predetermined set of rules. Uniswap has revolutionized the way we trade cryptocurrencies by providing a decentralized platform for swapping tokens.\n",
      "\n",
      "The latest version, Uniswap v3, has introduced several significant changes. It now features multiple pools for each pair of tokens, each with a different swap fee. This version also introduces non-fungible liquidity, non-compounding fees, and flexible fees. Furthermore, it has a liquidity oracle and is implemented as an entirely new set of contracts.\n",
      "\n",
      "To use Uniswap, you need to provide liquidity to the pool and set the fee tier for each pool. You can then use the oracle to query recent price accumulator values. For more detailed instructions on how to use Uniswap, please refer to the Uniswap v3 Core paper.\n",
      "\n",
      "This introduction provides a brief overview of Uniswap, its latest version, and how to use it. It's a great starting point for anyone interested in learning about this innovative platform.\n",
      "\n",
      "TERMINATE\n",
      "\n",
      "--------------------------------------------------------------------------------\n",
      "\u001b[33muser_proxy\u001b[0m (to assistant):\n",
      "\n",
      "TERMINATE\n",
      "\n",
      "--------------------------------------------------------------------------------\n"
     ]
    }
   ],
   "source": [
    "# the assistant receives a message from the user, which contains the task description\n",
    "user_proxy.initiate_chat(\n",
    "    assistant,\n",
    "    message=\"\"\"\n",
    "I'm writing a blog to introduce the version 3 of Uniswap protocol. Find the answers to the 3 questions below and write an introduction based on them.\n",
    "\n",
    "1. What is Uniswap?\n",
    "2. What are the main changes in Uniswap version 3?\n",
    "3. How to use Uniswap?\n",
    "\n",
    "Start the work now.\n",
    "\"\"\"\n",
    ")"
   ]
  }
 ],
 "metadata": {
  "colab": {
   "include_colab_link": true,
   "provenance": []
  },
  "kernelspec": {
   "display_name": "Python 3 (ipykernel)",
   "language": "python",
   "name": "python3"
  },
  "language_info": {
   "codemirror_mode": {
    "name": "ipython",
    "version": 3
   },
   "file_extension": ".py",
   "mimetype": "text/x-python",
   "name": "python",
   "nbconvert_exporter": "python",
   "pygments_lexer": "ipython3",
   "version": "3.10.12"
  },
  "vscode": {
   "interpreter": {
    "hash": "949777d72b0d2535278d3dc13498b2535136f6dfe0678499012e853ee9abcab1"
   }
  }
 },
 "nbformat": 4,
 "nbformat_minor": 4
}
